{
 "cells": [
  {
   "cell_type": "code",
   "execution_count": 1,
   "id": "2571f8fe",
   "metadata": {},
   "outputs": [
    {
     "name": "stdout",
     "output_type": "stream",
     "text": [
      "Wed Feb  8 14:43:21 2023\n",
      "\n",
      "Current directory : /home/vamsi/Downloads\n",
      "Hostname          : vamsi-ubuntu\n",
      "Username          : vamsi\n",
      "Python version    : 3.10.6 (main, Nov 14 2022, 16:10:14) [GCC 11.3.0]\n",
      "Numpy version                :  1.24.1\n"
     ]
    }
   ],
   "source": [
    "import os\n",
    "import sys\n",
    "\n",
    "import yaml\n",
    "import time\n",
    "import random\n",
    "\n",
    "# useful information\n",
    "curr_dir = !pwd\n",
    "curr_droid = !hostname\n",
    "curr_pilot = !whoami\n",
    "\n",
    "print(time.asctime(time.localtime()))\n",
    "print(\"\\nCurrent directory :\", curr_dir[-1])\n",
    "print(\"Hostname          :\", curr_droid[-1])\n",
    "print(\"Username          :\", curr_pilot[-1])\n",
    "print(\"Python version    :\", sys.version.split('\\n')[0])\n",
    "\n",
    "\n",
    "# ----------------------------------------\n",
    "\n",
    "import numpy as np\n",
    "import pandas as pd\n",
    "\n",
    "print(\"Numpy version                : \", np.__version__)"
   ]
  }
 ],
 "metadata": {
  "kernelspec": {
   "display_name": "Python 3 (ipykernel)",
   "language": "python",
   "name": "python3"
  },
  "language_info": {
   "codemirror_mode": {
    "name": "ipython",
    "version": 3
   },
   "file_extension": ".py",
   "mimetype": "text/x-python",
   "name": "python",
   "nbconvert_exporter": "python",
   "pygments_lexer": "ipython3",
   "version": "3.10.6"
  }
 },
 "nbformat": 4,
 "nbformat_minor": 5
}
